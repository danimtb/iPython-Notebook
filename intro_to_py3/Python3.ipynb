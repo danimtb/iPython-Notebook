{
 "metadata": {
  "celltoolbar": "Slideshow",
  "name": "",
  "signature": "sha256:c1b1e28c746933fee2741f9351ce17e370b3aa1bee9781708ee5aed49b5b4c14"
 },
 "nbformat": 3,
 "nbformat_minor": 0,
 "worksheets": [
  {
   "cells": [
    {
     "cell_type": "heading",
     "level": 1,
     "metadata": {
      "slideshow": {
       "slide_type": "slide"
      }
     },
     "source": [
      "![Alt text](intro.png)"
     ]
    },
    {
     "cell_type": "markdown",
     "metadata": {
      "slideshow": {
       "slide_type": "slide"
      }
     },
     "source": [
      "# Introduction to Python 3: <font color='orange'>print</font> <font color='black'>(</font> <font color='blue'>\u201cHello World\u201d</font> <font color='black'>)</font>\n",
      "\n",
      "## Why Python?\n",
      "\n",
      "* F\u00e1cil de aprender.\n",
      "* F\u00e1cil de leer.\n",
      "* Lenguaje de prop\u00f3sito general.\n",
      "* Una librer\u00eda est\u00e1ndar muy completa.\n",
      "* Es multiplataforma.\n",
      "* R\u00e1pido de desarrollar.\n",
      "* Tiene una comunidad muy activa, de la cual aprender.\n",
      "* Es interpretado, no tienes que pelearte con el compilador.\n",
      "* Salidas laborales.\n",
      "\n",
      "\n",
      "## python3 or python2\n",
      "\n",
      "Yo uso Python 2 por temas laborales, pero el por qu\u00e9 se debe aprender python 3 se resume en la frase que aparece en la [wiki](https://wiki.python.org/moin/Python2orPython3 \"Python2orPython3\") de python:\n",
      "```\n",
      "Short version: Python 2.x is legacy, Python 3.x is the present and future of the language\n",
      "```\n",
      "\n"
     ]
    },
    {
     "cell_type": "heading",
     "level": 2,
     "metadata": {
      "slideshow": {
       "slide_type": "slide"
      }
     },
     "source": [
      "Hello World"
     ]
    },
    {
     "cell_type": "code",
     "collapsed": false,
     "input": [
      "print(\"hello world\")"
     ],
     "language": "python",
     "metadata": {
      "slideshow": {
       "slide_type": "-"
      }
     },
     "outputs": [
      {
       "output_type": "stream",
       "stream": "stdout",
       "text": [
        "hello world\n"
       ]
      }
     ],
     "prompt_number": 1
    },
    {
     "cell_type": "heading",
     "level": 2,
     "metadata": {
      "slideshow": {
       "slide_type": "slide"
      }
     },
     "source": [
      "Variables"
     ]
    },
    {
     "cell_type": "markdown",
     "metadata": {
      "slideshow": {
       "slide_type": "-"
      }
     },
     "source": [
      "Las variables act\u00faan como contenedores para los datos. Puedes poner el dato que quieras almacenar dentro y usar el nombre de la variable siempre que quieras saber el contenido.\n",
      "\n",
      "![Alt text](var.png)\n",
      "\n",
      "Las variables se definen asign\u00e1ndoles un nombre, el cual suele dar informaci\u00f3n del dato que contiene o que va a contener. Por ejemplo, si queremos almacenar un numero que corresponde a la edad de una persona que tiene 10 a\u00f1os, podemos utilizar la variable **age** para almacenar el numero **10**.\n",
      "\n",
      "Como contenedores, su contenido puede cambiar con solo reasignar su contenido."
     ]
    },
    {
     "cell_type": "code",
     "collapsed": false,
     "input": [
      "age = 10\n",
      "print(age)\n",
      "age = \"diez\"\n",
      "print(age)"
     ],
     "language": "python",
     "metadata": {
      "slideshow": {
       "slide_type": "subslide"
      }
     },
     "outputs": [
      {
       "output_type": "stream",
       "stream": "stdout",
       "text": [
        "10\n",
        "diez\n"
       ]
      }
     ],
     "prompt_number": 2
    },
    {
     "cell_type": "heading",
     "level": 3,
     "metadata": {
      "slideshow": {
       "slide_type": "subslide"
      }
     },
     "source": [
      "Basic types"
     ]
    },
    {
     "cell_type": "markdown",
     "metadata": {
      "slideshow": {
       "slide_type": "-"
      }
     },
     "source": [
      "Los datos que almacena una variable pueden ser de diferentes tipos. Vamos a ver 3 tipos b\u00e1sicos, los n\u00fameros enteros(int), con decimales(float) y las cadenas de texto(string).\n",
      "Como ejemplo, un **int** podr\u00eda ser **12** o **-345**, un **float** podr\u00eda ser **12.43** o **-345.00** y **string** podr\u00eda ser **\"soy un string\"** o **'Otro string'**."
     ]
    },
    {
     "cell_type": "heading",
     "level": 4,
     "metadata": {
      "slideshow": {
       "slide_type": "subslide"
      }
     },
     "source": [
      "int"
     ]
    },
    {
     "cell_type": "code",
     "collapsed": false,
     "input": [
      "# int\n",
      "a = 2\n",
      "b = 4\n",
      "\n",
      "print(a + b)\n",
      "print(type(a))"
     ],
     "language": "python",
     "metadata": {
      "slideshow": {
       "slide_type": "subslide"
      }
     },
     "outputs": [
      {
       "output_type": "stream",
       "stream": "stdout",
       "text": [
        "6\n",
        "<type 'int'>\n"
       ]
      }
     ],
     "prompt_number": 3
    },
    {
     "cell_type": "heading",
     "level": 4,
     "metadata": {
      "slideshow": {
       "slide_type": "subslide"
      }
     },
     "source": [
      "float"
     ]
    },
    {
     "cell_type": "code",
     "collapsed": false,
     "input": [
      "# float\n",
      "a = 2\n",
      "b = 4.52\n",
      "\n",
      "print(a + b)\n",
      "print(type(b))"
     ],
     "language": "python",
     "metadata": {
      "slideshow": {
       "slide_type": "subslide"
      }
     },
     "outputs": [
      {
       "output_type": "stream",
       "stream": "stdout",
       "text": [
        "6.52\n",
        "<type 'float'>\n"
       ]
      }
     ],
     "prompt_number": 4
    },
    {
     "cell_type": "code",
     "collapsed": false,
     "input": [
      "#from int to float\n",
      "a = 2\n",
      "b = 4.52\n",
      "\n",
      "print(a + int(b))"
     ],
     "language": "python",
     "metadata": {
      "slideshow": {
       "slide_type": "subslide"
      }
     },
     "outputs": [
      {
       "output_type": "stream",
       "stream": "stdout",
       "text": [
        "6\n"
       ]
      }
     ],
     "prompt_number": 5
    },
    {
     "cell_type": "heading",
     "level": 4,
     "metadata": {
      "slideshow": {
       "slide_type": "subslide"
      }
     },
     "source": [
      "string"
     ]
    },
    {
     "cell_type": "code",
     "collapsed": false,
     "input": [
      "#string\n",
      "a = \"2\"\n",
      "b = \"4\"\n",
      "\n",
      "print(a + b)\n",
      "print(type(b))"
     ],
     "language": "python",
     "metadata": {
      "slideshow": {
       "slide_type": "subslide"
      }
     },
     "outputs": []
    },
    {
     "cell_type": "heading",
     "level": 4,
     "metadata": {
      "slideshow": {
       "slide_type": "subslide"
      }
     },
     "source": [
      "Play with types"
     ]
    },
    {
     "cell_type": "code",
     "collapsed": false,
     "input": [
      "a = \"2\"\n",
      "b = \"4\"\n",
      "c = 3\n",
      "\n",
      "a + b + c"
     ],
     "language": "python",
     "metadata": {
      "slideshow": {
       "slide_type": "subslide"
      }
     },
     "outputs": [
      {
       "ename": "TypeError",
       "evalue": "cannot concatenate 'str' and 'int' objects",
       "output_type": "pyerr",
       "traceback": [
        "\u001b[1;31m---------------------------------------------------------------------------\u001b[0m\n\u001b[1;31mTypeError\u001b[0m                                 Traceback (most recent call last)",
        "\u001b[1;32m<ipython-input-6-f9bcc88e78fb>\u001b[0m in \u001b[0;36m<module>\u001b[1;34m()\u001b[0m\n\u001b[0;32m      3\u001b[0m \u001b[0mc\u001b[0m \u001b[1;33m=\u001b[0m \u001b[1;36m3\u001b[0m\u001b[1;33m\u001b[0m\u001b[0m\n\u001b[0;32m      4\u001b[0m \u001b[1;33m\u001b[0m\u001b[0m\n\u001b[1;32m----> 5\u001b[1;33m \u001b[0ma\u001b[0m \u001b[1;33m+\u001b[0m \u001b[0mb\u001b[0m \u001b[1;33m+\u001b[0m \u001b[0mc\u001b[0m\u001b[1;33m\u001b[0m\u001b[0m\n\u001b[0m",
        "\u001b[1;31mTypeError\u001b[0m: cannot concatenate 'str' and 'int' objects"
       ]
      }
     ],
     "prompt_number": 6
    },
    {
     "cell_type": "code",
     "collapsed": false,
     "input": [
      "a = \"2\"\n",
      "b = \"4\"\n",
      "c = 3\n",
      "\n",
      "print(a + b + str(c))\n",
      "print(int(a) + float(b) + c)"
     ],
     "language": "python",
     "metadata": {
      "slideshow": {
       "slide_type": "subslide"
      }
     },
     "outputs": [
      {
       "output_type": "stream",
       "stream": "stdout",
       "text": [
        "243\n",
        "9.0\n"
       ]
      }
     ],
     "prompt_number": 7
    },
    {
     "cell_type": "code",
     "collapsed": false,
     "input": [
      "a = \"2\"\n",
      "b = 3\n",
      "\n",
      "a * b"
     ],
     "language": "python",
     "metadata": {
      "slideshow": {
       "slide_type": "subslide"
      }
     },
     "outputs": [
      {
       "metadata": {},
       "output_type": "pyout",
       "prompt_number": 8,
       "text": [
        "'222'"
       ]
      }
     ],
     "prompt_number": 8
    },
    {
     "cell_type": "heading",
     "level": 2,
     "metadata": {
      "slideshow": {
       "slide_type": "slide"
      }
     },
     "source": [
      "Arithmetic operators"
     ]
    },
    {
     "cell_type": "markdown",
     "metadata": {
      "slideshow": {
       "slide_type": "-"
      }
     },
     "source": [
      "Como hemos visto antes, se puede hacer operaciones con diferentes tipos de datos. Vamos a ver los diferentes operadores aritm\u00e9ticos que existen en Python3."
     ]
    },
    {
     "cell_type": "code",
     "collapsed": false,
     "input": [
      "print (3 + 4)\n",
      "print (3 - 4)\n",
      "print (3 * 4)\n",
      "print (3 / 4)\n",
      "print (3 % 2)\n",
      "print (3 ** 4) # 3 to the fourth power\n",
      "print (3 // 4) # floor division"
     ],
     "language": "python",
     "metadata": {
      "slideshow": {
       "slide_type": "subslide"
      }
     },
     "outputs": [
      {
       "output_type": "stream",
       "stream": "stdout",
       "text": [
        "7\n",
        "-1\n",
        "12\n",
        "0\n",
        "1\n",
        "81\n",
        "0\n"
       ]
      }
     ],
     "prompt_number": 9
    },
    {
     "cell_type": "heading",
     "level": 3,
     "metadata": {
      "slideshow": {
       "slide_type": "subslide"
      }
     },
     "source": [
      "computation and allocation"
     ]
    },
    {
     "cell_type": "code",
     "collapsed": false,
     "input": [
      "a = 0\n",
      "a += 2 #a = a + 2\n",
      "print(a)\n",
      "a //= 4 #a = a // 4\n",
      "print(a)"
     ],
     "language": "python",
     "metadata": {
      "slideshow": {
       "slide_type": "subslide"
      }
     },
     "outputs": [
      {
       "output_type": "stream",
       "stream": "stdout",
       "text": [
        "2\n",
        "0\n"
       ]
      }
     ],
     "prompt_number": 10
    },
    {
     "cell_type": "heading",
     "level": 2,
     "metadata": {
      "slideshow": {
       "slide_type": "slide"
      }
     },
     "source": [
      "Logical operators"
     ]
    },
    {
     "cell_type": "markdown",
     "metadata": {
      "slideshow": {
       "slide_type": "-"
      }
     },
     "source": [
      "Adem\u00e1s de los operadores aritm\u00e9ticos, existen operadores l\u00f3gicos. Vamos a ver los diferentes operadores l\u00f3gicos que existen en Python3."
     ]
    },
    {
     "cell_type": "code",
     "collapsed": false,
     "input": [
      "print(1 == 0)\n",
      "print(1 > 0)\n",
      "print(1 < 0)\n",
      "print(1 <= 0)\n",
      "print(1 >= 0)"
     ],
     "language": "python",
     "metadata": {
      "slideshow": {
       "slide_type": "subslide"
      }
     },
     "outputs": [
      {
       "output_type": "stream",
       "stream": "stdout",
       "text": [
        "False\n",
        "True\n",
        "False\n",
        "False\n",
        "True\n"
       ]
      }
     ],
     "prompt_number": 11
    },
    {
     "cell_type": "markdown",
     "metadata": {
      "slideshow": {
       "slide_type": "subslide"
      }
     },
     "source": [
      "Tambi\u00e9n podemos hacer operaciones l\u00f3gicas mas complejas con los operadores and, or, not o utilizando True o False para comparar."
     ]
    },
    {
     "cell_type": "code",
     "collapsed": false,
     "input": [
      "print(1 == 3.4 and \"a\" == 32)\n",
      "print(1 == 3.4 or 1)\n",
      "print(False == True)\n",
      "print(23 == True)\n",
      "print((1 == 3.4) == False)\n",
      "print(not (1 == 3.4))"
     ],
     "language": "python",
     "metadata": {
      "slideshow": {
       "slide_type": "subslide"
      }
     },
     "outputs": [
      {
       "output_type": "stream",
       "stream": "stdout",
       "text": [
        "False\n",
        "1\n",
        "False\n",
        "False\n",
        "True\n",
        "True\n"
       ]
      }
     ],
     "prompt_number": 12
    },
    {
     "cell_type": "heading",
     "level": 2,
     "metadata": {
      "slideshow": {
       "slide_type": "slide"
      }
     },
     "source": [
      "conditional structures"
     ]
    },
    {
     "cell_type": "heading",
     "level": 3,
     "metadata": {
      "slideshow": {
       "slide_type": "subslide"
      }
     },
     "source": [
      "If, elif and else"
     ]
    },
    {
     "cell_type": "code",
     "collapsed": false,
     "input": [
      "a = 3\n",
      "if a > 2:\n",
      "    print(\"a > 2\")\n",
      "else:\n",
      "    print(\"a <= 2\")"
     ],
     "language": "python",
     "metadata": {
      "slideshow": {
       "slide_type": "subslide"
      }
     },
     "outputs": [
      {
       "output_type": "stream",
       "stream": "stdout",
       "text": [
        "a > 2\n"
       ]
      }
     ],
     "prompt_number": 13
    },
    {
     "cell_type": "code",
     "collapsed": false,
     "input": [
      "a = 1\n",
      "if a > 2:\n",
      "    print(\"a > 2\")\n",
      "else:\n",
      "    print(\"a <= 2\")"
     ],
     "language": "python",
     "metadata": {
      "slideshow": {
       "slide_type": "subslide"
      }
     },
     "outputs": [
      {
       "output_type": "stream",
       "stream": "stdout",
       "text": [
        "a <= 2\n"
       ]
      }
     ],
     "prompt_number": 14
    },
    {
     "cell_type": "code",
     "collapsed": false,
     "input": [
      "a = -3\n",
      "if a >= 2:\n",
      "    print(\"a => 2\")\n",
      "elif a <= 0:\n",
      "    print(\"a <= 0\")\n",
      "else:\n",
      "    print(\"0 < a < 2\")"
     ],
     "language": "python",
     "metadata": {
      "slideshow": {
       "slide_type": "subslide"
      }
     },
     "outputs": [
      {
       "output_type": "stream",
       "stream": "stdout",
       "text": [
        "a <= 0\n"
       ]
      }
     ],
     "prompt_number": 15
    },
    {
     "cell_type": "code",
     "collapsed": false,
     "input": [
      "a = 1\n",
      "if a >= 2:\n",
      "    print(\"a => 2\")\n",
      "elif a <= 0:\n",
      "    print(\"a <= 0\")\n",
      "else:\n",
      "    print(\"0 < a < 2\")"
     ],
     "language": "python",
     "metadata": {
      "slideshow": {
       "slide_type": "subslide"
      }
     },
     "outputs": [
      {
       "output_type": "stream",
       "stream": "stdout",
       "text": [
        "0 < a < 2\n"
       ]
      }
     ],
     "prompt_number": 16
    },
    {
     "cell_type": "heading",
     "level": 3,
     "metadata": {
      "slideshow": {
       "slide_type": "subslide"
      }
     },
     "source": [
      "for"
     ]
    },
    {
     "cell_type": "code",
     "collapsed": false,
     "input": [
      "for a in range(4):\n",
      "    print(a)\n",
      "\n",
      "#range(4)=0,1,2,3"
     ],
     "language": "python",
     "metadata": {
      "slideshow": {
       "slide_type": "subslide"
      }
     },
     "outputs": [
      {
       "output_type": "stream",
       "stream": "stdout",
       "text": [
        "0\n",
        "1\n",
        "2\n",
        "3\n"
       ]
      }
     ],
     "prompt_number": 17
    },
    {
     "cell_type": "code",
     "collapsed": false,
     "input": [
      "for a in range(1, 4):\n",
      "    print(a)\n",
      "\n",
      "#range(1, 4)=0,1,2,3"
     ],
     "language": "python",
     "metadata": {
      "slideshow": {
       "slide_type": "subslide"
      }
     },
     "outputs": [
      {
       "output_type": "stream",
       "stream": "stdout",
       "text": [
        "1\n",
        "2\n",
        "3\n"
       ]
      }
     ],
     "prompt_number": 18
    },
    {
     "cell_type": "heading",
     "level": 3,
     "metadata": {
      "slideshow": {
       "slide_type": "subslide"
      }
     },
     "source": [
      "while"
     ]
    },
    {
     "cell_type": "code",
     "collapsed": false,
     "input": [
      "a = 0\n",
      "while a < 4:\n",
      "    print (a)\n",
      "    a += 4\n"
     ],
     "language": "python",
     "metadata": {
      "slideshow": {
       "slide_type": "subslide"
      }
     },
     "outputs": [
      {
       "output_type": "stream",
       "stream": "stdout",
       "text": [
        "0\n"
       ]
      }
     ],
     "prompt_number": 19
    },
    {
     "cell_type": "heading",
     "level": 2,
     "metadata": {
      "slideshow": {
       "slide_type": "slide"
      }
     },
     "source": [
      "functions"
     ]
    },
    {
     "cell_type": "code",
     "collapsed": false,
     "input": [
      "def hello():\n",
      "    print(\"hello world\")\n",
      "hello()"
     ],
     "language": "python",
     "metadata": {
      "slideshow": {
       "slide_type": "subslide"
      }
     },
     "outputs": [
      {
       "output_type": "stream",
       "stream": "stdout",
       "text": [
        "hello world\n"
       ]
      }
     ],
     "prompt_number": 20
    },
    {
     "cell_type": "code",
     "collapsed": false,
     "input": [
      "def printer(a):\n",
      "    print(a)\n",
      "a = \"hello world\"\n",
      "printer(a)\n",
      "printer(4)"
     ],
     "language": "python",
     "metadata": {
      "slideshow": {
       "slide_type": "subslide"
      }
     },
     "outputs": [
      {
       "output_type": "stream",
       "stream": "stdout",
       "text": [
        "hello world\n",
        "4\n"
       ]
      }
     ],
     "prompt_number": 21
    },
    {
     "cell_type": "code",
     "collapsed": false,
     "input": [
      "def add(a, b):\n",
      "    return a + b\n",
      "c = add(1, 3)\n",
      "print(c)\n"
     ],
     "language": "python",
     "metadata": {
      "slideshow": {
       "slide_type": "subslide"
      }
     },
     "outputs": [
      {
       "output_type": "stream",
       "stream": "stdout",
       "text": [
        "4\n"
       ]
      }
     ],
     "prompt_number": 22
    },
    {
     "cell_type": "code",
     "collapsed": false,
     "input": [
      "def add(a, b):\n",
      "    result = a + b\n",
      "    return result\n",
      "d = add(1, 3)\n",
      "print(d)\n",
      "print(result) #Scope error\n"
     ],
     "language": "python",
     "metadata": {
      "slideshow": {
       "slide_type": "subslide"
      }
     },
     "outputs": [
      {
       "output_type": "stream",
       "stream": "stdout",
       "text": [
        "4\n"
       ]
      },
      {
       "ename": "NameError",
       "evalue": "name 'result' is not defined",
       "output_type": "pyerr",
       "traceback": [
        "\u001b[1;31m---------------------------------------------------------------------------\u001b[0m\n\u001b[1;31mNameError\u001b[0m                                 Traceback (most recent call last)",
        "\u001b[1;32m<ipython-input-23-6908b226d7a1>\u001b[0m in \u001b[0;36m<module>\u001b[1;34m()\u001b[0m\n\u001b[0;32m      4\u001b[0m \u001b[0md\u001b[0m \u001b[1;33m=\u001b[0m \u001b[0madd\u001b[0m\u001b[1;33m(\u001b[0m\u001b[1;36m1\u001b[0m\u001b[1;33m,\u001b[0m \u001b[1;36m3\u001b[0m\u001b[1;33m)\u001b[0m\u001b[1;33m\u001b[0m\u001b[0m\n\u001b[0;32m      5\u001b[0m \u001b[1;32mprint\u001b[0m\u001b[1;33m(\u001b[0m\u001b[0md\u001b[0m\u001b[1;33m)\u001b[0m\u001b[1;33m\u001b[0m\u001b[0m\n\u001b[1;32m----> 6\u001b[1;33m \u001b[1;32mprint\u001b[0m\u001b[1;33m(\u001b[0m\u001b[0mresult\u001b[0m\u001b[1;33m)\u001b[0m \u001b[1;31m#Scope error\u001b[0m\u001b[1;33m\u001b[0m\u001b[0m\n\u001b[0m",
        "\u001b[1;31mNameError\u001b[0m: name 'result' is not defined"
       ]
      }
     ],
     "prompt_number": 23
    },
    {
     "cell_type": "code",
     "collapsed": false,
     "input": [
      "def suma(a, b):\n",
      "    c = a + b\n",
      "    d = a - b\n",
      "    return c, d\n",
      "e, f = suma(2, 4)\n",
      "print(e, f)\n"
     ],
     "language": "python",
     "metadata": {
      "slideshow": {
       "slide_type": "subslide"
      }
     },
     "outputs": [
      {
       "output_type": "stream",
       "stream": "stdout",
       "text": [
        "(6, -2)\n"
       ]
      }
     ],
     "prompt_number": 24
    },
    {
     "cell_type": "heading",
     "level": 2,
     "metadata": {
      "slideshow": {
       "slide_type": "slide"
      }
     },
     "source": [
      "string"
     ]
    },
    {
     "cell_type": "code",
     "collapsed": false,
     "input": [
      "a = \"string\"\n",
      "print(a[1:3])\n",
      "print(a[:3])\n",
      "print(a[2:])\n",
      "print(a[:])\n",
      "print(a)"
     ],
     "language": "python",
     "metadata": {
      "slideshow": {
       "slide_type": "subslide"
      }
     },
     "outputs": [
      {
       "output_type": "stream",
       "stream": "stdout",
       "text": [
        "tr\n",
        "str\n",
        "ring\n",
        "string\n",
        "string\n"
       ]
      }
     ],
     "prompt_number": 25
    },
    {
     "cell_type": "code",
     "collapsed": false,
     "input": [
      "print('Num %s' % 123.44)\n",
      "print('Num %i' % 123.44)\n",
      "print('Num %f' % 123.44)\n",
      "print(\"Num %.2f\" % 123.444)\n",
      "\n",
      "a = \"abcdefghijklmnopqrstu\"\n",
      "print('%.10s' % a)"
     ],
     "language": "python",
     "metadata": {
      "slideshow": {
       "slide_type": "subslide"
      }
     },
     "outputs": [
      {
       "output_type": "stream",
       "stream": "stdout",
       "text": [
        "Num 123.44\n",
        "Num 123\n",
        "Num 123.440000\n",
        "Num 123.44\n",
        "abcdefghij\n"
       ]
      }
     ],
     "prompt_number": 26
    },
    {
     "cell_type": "code",
     "collapsed": false,
     "input": [
      "a = \"strings\".replace(\"s\", \"S\")\n",
      "print(a)\n",
      "print(a.startswith(\"St\"))\n",
      "print(a.endswith(\"ngs\"))"
     ],
     "language": "python",
     "metadata": {
      "slideshow": {
       "slide_type": "subslide"
      }
     },
     "outputs": [
      {
       "output_type": "stream",
       "stream": "stdout",
       "text": [
        "StringS\n",
        "True\n",
        "False\n"
       ]
      }
     ],
     "prompt_number": 27
    },
    {
     "cell_type": "heading",
     "level": 2,
     "metadata": {
      "slideshow": {
       "slide_type": "slide"
      }
     },
     "source": [
      "lists and tuples"
     ]
    },
    {
     "cell_type": "heading",
     "level": 3,
     "metadata": {
      "slideshow": {
       "slide_type": "subslide"
      }
     },
     "source": [
      "list"
     ]
    },
    {
     "cell_type": "code",
     "collapsed": false,
     "input": [
      "sampleList = [1,2,3,4,5,6,7,8]\n",
      "print (sampleList[1])"
     ],
     "language": "python",
     "metadata": {
      "slideshow": {
       "slide_type": "subslide"
      }
     },
     "outputs": [
      {
       "output_type": "stream",
       "stream": "stdout",
       "text": [
        "2\n"
       ]
      }
     ],
     "prompt_number": 28
    },
    {
     "cell_type": "code",
     "collapsed": false,
     "input": [
      "sampleList = [1,2,3,4,5,6,7,8]\n",
      "for a in sampleList:\n",
      "    print (a)"
     ],
     "language": "python",
     "metadata": {
      "slideshow": {
       "slide_type": "subslide"
      }
     },
     "outputs": [
      {
       "output_type": "stream",
       "stream": "stdout",
       "text": [
        "1\n",
        "2\n",
        "3\n",
        "4\n",
        "5\n",
        "6\n",
        "7\n",
        "8\n"
       ]
      }
     ],
     "prompt_number": 29
    },
    {
     "cell_type": "markdown",
     "metadata": {
      "slideshow": {
       "slide_type": "subslide"
      }
     },
     "source": [
      "- **.append(value)** - a\u00f1ade value al final\n",
      "- **.count('x')** - n\u00famero de apariciones de X\n",
      "- **.index('x')** - posici\u00f3n de X\n",
      "- **.insert('y','x')** - Inserta X en la posicion Y\n",
      "- **.pop()** - Retorna y elimina el \u00faltimo elemento\n",
      "- **.remove('x')** - Elimina X\n",
      "- **.reverse()** - Da la vuelta a la lista\n",
      "- **.sort()** - Ordena la listaalfabeticamente en orden ascendente, o numericamente en orden ascendente."
     ]
    },
    {
     "cell_type": "heading",
     "level": 3,
     "metadata": {
      "slideshow": {
       "slide_type": "subslide"
      }
     },
     "source": [
      "tuple"
     ]
    },
    {
     "cell_type": "code",
     "collapsed": false,
     "input": [
      "sampleTuple = (1,2,3,4,5,6,7,8)\n",
      "for a in sampleList:\n",
      "    print (a)"
     ],
     "language": "python",
     "metadata": {
      "slideshow": {
       "slide_type": "subslide"
      }
     },
     "outputs": [
      {
       "output_type": "stream",
       "stream": "stdout",
       "text": [
        "1\n",
        "2\n",
        "3\n",
        "4\n",
        "5\n",
        "6\n",
        "7\n",
        "8\n"
       ]
      }
     ],
     "prompt_number": 30
    },
    {
     "cell_type": "heading",
     "level": 3,
     "metadata": {
      "slideshow": {
       "slide_type": "subslide"
      }
     },
     "source": [
      "list vs tuple"
     ]
    },
    {
     "cell_type": "code",
     "collapsed": false,
     "input": [
      "myList = [1,2,3]\n",
      "myList.append(4)\n",
      "\n",
      "myTuple = (1,2,3)\n",
      "myTuple.append(4)"
     ],
     "language": "python",
     "metadata": {
      "slideshow": {
       "slide_type": "subslide"
      }
     },
     "outputs": [
      {
       "ename": "AttributeError",
       "evalue": "'tuple' object has no attribute 'append'",
       "output_type": "pyerr",
       "traceback": [
        "\u001b[1;31m---------------------------------------------------------------------------\u001b[0m\n\u001b[1;31mAttributeError\u001b[0m                            Traceback (most recent call last)",
        "\u001b[1;32m<ipython-input-31-0542a1f45324>\u001b[0m in \u001b[0;36m<module>\u001b[1;34m()\u001b[0m\n\u001b[0;32m      3\u001b[0m \u001b[1;33m\u001b[0m\u001b[0m\n\u001b[0;32m      4\u001b[0m \u001b[0mmyTuple\u001b[0m \u001b[1;33m=\u001b[0m \u001b[1;33m(\u001b[0m\u001b[1;36m1\u001b[0m\u001b[1;33m,\u001b[0m\u001b[1;36m2\u001b[0m\u001b[1;33m,\u001b[0m\u001b[1;36m3\u001b[0m\u001b[1;33m)\u001b[0m\u001b[1;33m\u001b[0m\u001b[0m\n\u001b[1;32m----> 5\u001b[1;33m \u001b[0mmyTuple\u001b[0m\u001b[1;33m.\u001b[0m\u001b[0mappend\u001b[0m\u001b[1;33m(\u001b[0m\u001b[1;36m4\u001b[0m\u001b[1;33m)\u001b[0m\u001b[1;33m\u001b[0m\u001b[0m\n\u001b[0m",
        "\u001b[1;31mAttributeError\u001b[0m: 'tuple' object has no attribute 'append'"
       ]
      }
     ],
     "prompt_number": 31
    },
    {
     "cell_type": "heading",
     "level": 2,
     "metadata": {
      "slideshow": {
       "slide_type": "slide"
      }
     },
     "source": [
      "dictionaries"
     ]
    },
    {
     "cell_type": "code",
     "collapsed": false,
     "input": [
      "myDict = {\"foo\": 2,\n",
      "          \"bar\": 20}\n",
      "print(myDict [\"bar\"])"
     ],
     "language": "python",
     "metadata": {
      "slideshow": {
       "slide_type": "subslide"
      }
     },
     "outputs": [
      {
       "output_type": "stream",
       "stream": "stdout",
       "text": [
        "20\n"
       ]
      }
     ],
     "prompt_number": 32
    },
    {
     "cell_type": "code",
     "collapsed": false,
     "input": [
      "myDict = {\"foo\": 2,\n",
      "          \"bar\": 20}\n",
      "for a in myDict:\n",
      "    print (a, myDict[a])\n",
      "print (\"-\" * 10)    \n",
      "for a, b in myDict.iteritems():\n",
      "    print (a, b)\n",
      "print (\"-\" * 10)\n",
      "for a in myDict.values():\n",
      "    print (a)\n"
     ],
     "language": "python",
     "metadata": {
      "slideshow": {
       "slide_type": "subslide"
      }
     },
     "outputs": [
      {
       "output_type": "stream",
       "stream": "stdout",
       "text": [
        "('foo', 2)\n",
        "('bar', 20)\n",
        "----------\n",
        "('foo', 2)\n",
        "('bar', 20)\n",
        "----------\n",
        "2\n",
        "20\n"
       ]
      }
     ],
     "prompt_number": 33
    },
    {
     "cell_type": "heading",
     "level": 2,
     "metadata": {
      "slideshow": {
       "slide_type": "slide"
      }
     },
     "source": [
      "Files"
     ]
    },
    {
     "cell_type": "markdown",
     "metadata": {
      "slideshow": {
       "slide_type": "subslide"
      }
     },
     "source": [
      "**hello.txt**\n",
      "\n",
      "```\n",
      "Hola a todos,\n",
      "soy un texto de prueba\n",
      "para aprender como Python 3\n",
      "manipula ficheros.\n",
      "```"
     ]
    },
    {
     "cell_type": "code",
     "collapsed": false,
     "input": [
      "f = open('hello.txt', 'r') \n",
      "print(f.read(1))\n",
      "print(f.read())\n",
      "f.close()"
     ],
     "language": "python",
     "metadata": {
      "slideshow": {
       "slide_type": "subslide"
      }
     },
     "outputs": [
      {
       "output_type": "stream",
       "stream": "stdout",
       "text": [
        "H\n",
        "ola a todos,\n",
        "soy un texto de prueba\n",
        "para aprender como Python 3\n",
        "manipula ficheros.\n"
       ]
      }
     ],
     "prompt_number": 34
    },
    {
     "cell_type": "code",
     "collapsed": false,
     "input": [
      "f = open('hello.txt', 'r') \n",
      "print(f.readline())\n",
      "print(f.readline())\n",
      "f.close()"
     ],
     "language": "python",
     "metadata": {
      "slideshow": {
       "slide_type": "subslide"
      }
     },
     "outputs": [
      {
       "output_type": "stream",
       "stream": "stdout",
       "text": [
        "Hola a todos,\n",
        "\n",
        "soy un texto de prueba\n",
        "\n"
       ]
      }
     ],
     "prompt_number": 35
    },
    {
     "cell_type": "code",
     "collapsed": false,
     "input": [
      "f = open('hello.txt', 'r')  \n",
      "myList = []\n",
      "for line in f:\n",
      "    myList.append(line)\n",
      "print(myList)\n",
      "f.close()"
     ],
     "language": "python",
     "metadata": {
      "slideshow": {
       "slide_type": "subslide"
      }
     },
     "outputs": [
      {
       "output_type": "stream",
       "stream": "stdout",
       "text": [
        "['Hola a todos,\\n', 'soy un texto de prueba\\n', 'para aprender como Python 3\\n', 'manipula ficheros.']\n"
       ]
      }
     ],
     "prompt_number": 36
    },
    {
     "cell_type": "heading",
     "level": 2,
     "metadata": {
      "slideshow": {
       "slide_type": "slide"
      }
     },
     "source": [
      "I/O"
     ]
    },
    {
     "cell_type": "code",
     "collapsed": false,
     "input": [
      "name = raw_input(\"What is your name? \")\n",
      "\n",
      "age = int(input(\"How old are you? \"))\n",
      "\n",
      "print (\"%s, %s \" % (name, age))"
     ],
     "language": "python",
     "metadata": {
      "slideshow": {
       "slide_type": "subslide"
      }
     },
     "outputs": [
      {
       "name": "stdout",
       "output_type": "stream",
       "stream": "stdout",
       "text": [
        "What is your name? david\n"
       ]
      },
      {
       "name": "stdout",
       "output_type": "stream",
       "stream": "stdout",
       "text": [
        "How old are you? 26\n"
       ]
      },
      {
       "output_type": "stream",
       "stream": "stdout",
       "text": [
        "david, 26 \n"
       ]
      }
     ],
     "prompt_number": 37
    },
    {
     "cell_type": "heading",
     "level": 2,
     "metadata": {
      "slideshow": {
       "slide_type": "slide"
      }
     },
     "source": [
      "exceptions"
     ]
    },
    {
     "cell_type": "code",
     "collapsed": false,
     "input": [
      "var = '1'\n",
      "try:\n",
      "    var = var + 1\n",
      "except:\n",
      "    print(\"ERROR\")\n",
      "print(var)"
     ],
     "language": "python",
     "metadata": {
      "slideshow": {
       "slide_type": "subslide"
      }
     },
     "outputs": [
      {
       "output_type": "stream",
       "stream": "stdout",
       "text": [
        "ERROR\n",
        "1\n"
       ]
      }
     ],
     "prompt_number": 38
    },
    {
     "cell_type": "code",
     "collapsed": false,
     "input": [
      "var = '1'\n",
      "try:\n",
      "    var = var + 1\n",
      "except:\n",
      "    var = int(var) + 1\n",
      "print(var)"
     ],
     "language": "python",
     "metadata": {
      "slideshow": {
       "slide_type": "subslide"
      }
     },
     "outputs": [
      {
       "output_type": "stream",
       "stream": "stdout",
       "text": [
        "2\n"
       ]
      }
     ],
     "prompt_number": 39
    },
    {
     "cell_type": "code",
     "collapsed": false,
     "input": [
      "var = '1' \n",
      "try:\n",
      "    var = var + 1\n",
      "except TypeError as e:\n",
      "     print(\"ERROR: %s\" % e.message)\n",
      "finally:\n",
      "    print(var)"
     ],
     "language": "python",
     "metadata": {
      "slideshow": {
       "slide_type": "subslide"
      }
     },
     "outputs": [
      {
       "output_type": "stream",
       "stream": "stdout",
       "text": [
        "ERROR: cannot concatenate 'str' and 'int' objects\n",
        "1\n"
       ]
      }
     ],
     "prompt_number": 40
    },
    {
     "cell_type": "code",
     "collapsed": false,
     "input": [
      "def add_one(var):\n",
      "    try:\n",
      "        var += 1\n",
      "    except TypeError as e:\n",
      "        print(\"ERROR: %s\" % e.message)\n",
      "        raise TypeError\n",
      "    finally:\n",
      "        print(\"var value: %s\" % var)\n",
      "    print(\"All correct\")\n",
      "\n",
      "add_one(1)\n",
      "print(\"-\" * 10)\n",
      "try:\n",
      "    add_one(\"1\")\n",
      "except:\n",
      "    print(\"EXCEPTION\")"
     ],
     "language": "python",
     "metadata": {
      "slideshow": {
       "slide_type": "subslide"
      }
     },
     "outputs": [
      {
       "output_type": "stream",
       "stream": "stdout",
       "text": [
        "var value: 2\n",
        "All correct\n",
        "----------\n",
        "ERROR: cannot concatenate 'str' and 'int' objects\n",
        "var value: 1\n",
        "EXCEPTION\n"
       ]
      }
     ],
     "prompt_number": 41
    },
    {
     "cell_type": "heading",
     "level": 2,
     "metadata": {
      "slideshow": {
       "slide_type": "slide"
      }
     },
     "source": [
      "class"
     ]
    },
    {
     "cell_type": "code",
     "collapsed": false,
     "input": [
      "class Calculator(object):\n",
      "    def __init__(self):\n",
      "        self.current = 0\n",
      "    def add(self, amount):\n",
      "        self.current += amount\n",
      "    def getCurrent(self):\n",
      "        return self.current\n",
      "\n",
      "myCalculator = Calculator()\n",
      "myCalculator.add(7)\n",
      "a = myCalculator.getCurrent()\n",
      "print(a)\n",
      "print(myCalculator.current)"
     ],
     "language": "python",
     "metadata": {
      "slideshow": {
       "slide_type": "subslide"
      }
     },
     "outputs": [
      {
       "output_type": "stream",
       "stream": "stdout",
       "text": [
        "7\n",
        "7\n"
       ]
      }
     ],
     "prompt_number": 42
    },
    {
     "cell_type": "code",
     "collapsed": false,
     "input": [
      "class Calculator(object):\n",
      "    def __init__(self, num):\n",
      "        self.current = num\n",
      "    def add(self, amount):\n",
      "        self.current += amount\n",
      "    def getCurrent(self):\n",
      "        return self.current\n",
      "\n",
      "myCalculator = Calculator(5)\n",
      "print(myCalculator.current)\n",
      "\n",
      "try:\n",
      "    myCalculator = Calculator()\n",
      "except Exception as e:\n",
      "    print(e.message)"
     ],
     "language": "python",
     "metadata": {
      "slideshow": {
       "slide_type": "subslide"
      }
     },
     "outputs": [
      {
       "output_type": "stream",
       "stream": "stdout",
       "text": [
        "5\n",
        "__init__() takes exactly 2 arguments (1 given)\n"
       ]
      }
     ],
     "prompt_number": 43
    },
    {
     "cell_type": "code",
     "collapsed": false,
     "input": [
      "class Calculator(object):\n",
      "    def __init__(self, num=0):\n",
      "        self.current = num\n",
      "    def add(self, amount):\n",
      "        self.current += amount\n",
      "    def getCurrent(self):\n",
      "        return self.current\n",
      "\n",
      "myCalculator = Calculator()\n",
      "print(myCalculator.current)\n",
      "myCalculator = Calculator(5)\n",
      "print(myCalculator.current)"
     ],
     "language": "python",
     "metadata": {
      "slideshow": {
       "slide_type": "subslide"
      }
     },
     "outputs": [
      {
       "output_type": "stream",
       "stream": "stdout",
       "text": [
        "0\n",
        "5\n"
       ]
      }
     ],
     "prompt_number": 44
    },
    {
     "cell_type": "code",
     "collapsed": false,
     "input": [
      "class Calculator(object):\n",
      "    def __init__(self, num=0):\n",
      "        self.current = num\n",
      "    def add(self, amount):\n",
      "        self.current += amount\n",
      "    def getCurrent(self):\n",
      "        return self.current\n",
      "\n",
      "class FullCalculator(Calculator):\n",
      "    def remove(self, amount):\n",
      "        self.current -= amount\n",
      "\n",
      "myCalculator = FullCalculator(1)\n",
      "myCalculator.add(7)\n",
      "a = myCalculator.getCurrent()\n",
      "print(a)\n",
      "myCalculator.remove(9)\n",
      "a = myCalculator.getCurrent()\n",
      "print(a)"
     ],
     "language": "python",
     "metadata": {
      "slideshow": {
       "slide_type": "subslide"
      }
     },
     "outputs": [
      {
       "output_type": "stream",
       "stream": "stdout",
       "text": [
        "8\n",
        "-1\n"
       ]
      }
     ],
     "prompt_number": 45
    }
   ],
   "metadata": {}
  }
 ]
}