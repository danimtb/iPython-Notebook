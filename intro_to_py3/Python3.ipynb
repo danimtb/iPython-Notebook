{
 "cells": [
  {
   "cell_type": "markdown",
   "metadata": {
    "slideshow": {
     "slide_type": "slide"
    }
   },
   "source": [
    "# ![Alt text](intro.png)"
   ]
  },
  {
   "cell_type": "markdown",
   "metadata": {
    "slideshow": {
     "slide_type": "slide"
    }
   },
   "source": [
    "# Introduction to Python 3: <font color='orange'>print</font> <font color='black'>(</font> <font color='blue'>“Hello World”</font> <font color='black'>)</font>\n",
    "\n",
    "## Why Python?\n",
    "\n",
    "* Fácil de aprender.\n",
    "* Fácil de leer.\n",
    "* Lenguaje de propósito general.\n",
    "* Una librería estándar muy completa.\n",
    "* Es multiplataforma.\n",
    "* Rápido de desarrollar.\n",
    "* Tiene una comunidad muy activa, de la cual aprender.\n",
    "* Es interpretado, no tienes que pelearte con el compilador.\n",
    "* Salidas laborales.\n",
    "\n",
    "\n",
    "## python3 or python2\n",
    "\n",
    "Yo uso Python 2 por temas laborales, pero el por qué se debe aprender python 3 se resume en la frase que aparece en la [wiki](https://wiki.python.org/moin/Python2orPython3 \"Python2orPython3\") de python:\n",
    "```\n",
    "Short version: Python 2.x is legacy, Python 3.x is the present and future of the language\n",
    "```\n",
    "\n"
   ]
  },
  {
   "cell_type": "markdown",
   "metadata": {
    "slideshow": {
     "slide_type": "slide"
    }
   },
   "source": [
    "## Hello World"
   ]
  },
  {
   "cell_type": "code",
   "execution_count": 10,
   "metadata": {
    "collapsed": false,
    "slideshow": {
     "slide_type": "-"
    }
   },
   "outputs": [
    {
     "name": "stdout",
     "output_type": "stream",
     "text": [
      "hello world\n"
     ]
    }
   ],
   "source": [
    "print(\"hello world\")"
   ]
  },
  {
   "cell_type": "markdown",
   "metadata": {
    "slideshow": {
     "slide_type": "slide"
    }
   },
   "source": [
    "## Variables"
   ]
  },
  {
   "cell_type": "markdown",
   "metadata": {
    "slideshow": {
     "slide_type": "-"
    }
   },
   "source": [
    "Las variables actúan como contenedores para los datos. Puedes poner el dato que quieras almacenar dentro y usar el nombre de la variable siempre que quieras saber el contenido.\n",
    "\n",
    "![Alt text](var.png)\n",
    "\n",
    "Las variables se definen asignándoles un nombre, el cual suele dar información del dato que contiene o que va a contener. Por ejemplo, si queremos almacenar un numero que corresponde a la edad de una persona que tiene 10 años, podemos utilizar la variable **age** para almacenar el numero **10**.\n",
    "\n",
    "Como contenedores, su contenido puede cambiar con solo reasignar su contenido."
   ]
  },
  {
   "cell_type": "code",
   "execution_count": 11,
   "metadata": {
    "collapsed": false,
    "slideshow": {
     "slide_type": "subslide"
    }
   },
   "outputs": [
    {
     "name": "stdout",
     "output_type": "stream",
     "text": [
      "10\n",
      "diez\n"
     ]
    }
   ],
   "source": [
    "age = 10\n",
    "print(age)\n",
    "age = \"diez\"\n",
    "print(age)"
   ]
  },
  {
   "cell_type": "markdown",
   "metadata": {
    "slideshow": {
     "slide_type": "subslide"
    }
   },
   "source": [
    "### Basic types"
   ]
  },
  {
   "cell_type": "markdown",
   "metadata": {
    "slideshow": {
     "slide_type": "-"
    }
   },
   "source": [
    "Los datos que almacena una variable pueden ser de diferentes tipos. Vamos a ver 3 tipos básicos, los números enteros(int), con decimales(float) y las cadenas de texto(string).\n",
    "Como ejemplo, un **int** podría ser **12** o **-345**, un **float** podría ser **12.43** o **-345.00** y **string** podría ser **\"soy un string\"** o **'Otro string'**."
   ]
  },
  {
   "cell_type": "markdown",
   "metadata": {
    "slideshow": {
     "slide_type": "subslide"
    }
   },
   "source": [
    "#### int"
   ]
  },
  {
   "cell_type": "code",
   "execution_count": 12,
   "metadata": {
    "collapsed": false,
    "slideshow": {
     "slide_type": "subslide"
    }
   },
   "outputs": [
    {
     "name": "stdout",
     "output_type": "stream",
     "text": [
      "6\n",
      "<class 'int'>\n"
     ]
    }
   ],
   "source": [
    "# int\n",
    "a = 2\n",
    "b = 4\n",
    "\n",
    "print(a + b)\n",
    "print(type(a))"
   ]
  },
  {
   "cell_type": "markdown",
   "metadata": {
    "slideshow": {
     "slide_type": "subslide"
    }
   },
   "source": [
    "#### float"
   ]
  },
  {
   "cell_type": "code",
   "execution_count": 13,
   "metadata": {
    "collapsed": false,
    "slideshow": {
     "slide_type": "subslide"
    }
   },
   "outputs": [
    {
     "name": "stdout",
     "output_type": "stream",
     "text": [
      "6.52\n",
      "<class 'float'>\n"
     ]
    }
   ],
   "source": [
    "# float\n",
    "a = 2\n",
    "b = 4.52\n",
    "\n",
    "print(a + b)\n",
    "print(type(b))"
   ]
  },
  {
   "cell_type": "code",
   "execution_count": 14,
   "metadata": {
    "collapsed": false,
    "slideshow": {
     "slide_type": "subslide"
    }
   },
   "outputs": [
    {
     "name": "stdout",
     "output_type": "stream",
     "text": [
      "6\n"
     ]
    }
   ],
   "source": [
    "#from int to float\n",
    "a = 2\n",
    "b = 4.52\n",
    "\n",
    "print(a + int(b))"
   ]
  },
  {
   "cell_type": "markdown",
   "metadata": {
    "slideshow": {
     "slide_type": "subslide"
    }
   },
   "source": [
    "#### string"
   ]
  },
  {
   "cell_type": "code",
   "execution_count": 15,
   "metadata": {
    "collapsed": false,
    "slideshow": {
     "slide_type": "subslide"
    }
   },
   "outputs": [
    {
     "name": "stdout",
     "output_type": "stream",
     "text": [
      "24\n",
      "<class 'str'>\n"
     ]
    }
   ],
   "source": [
    "#string\n",
    "a = \"2\"\n",
    "b = \"4\"\n",
    "\n",
    "print(a + b)\n",
    "print(type(b))"
   ]
  },
  {
   "cell_type": "markdown",
   "metadata": {
    "slideshow": {
     "slide_type": "subslide"
    }
   },
   "source": [
    "#### Play with types"
   ]
  },
  {
   "cell_type": "code",
   "execution_count": 16,
   "metadata": {
    "collapsed": false,
    "slideshow": {
     "slide_type": "subslide"
    }
   },
   "outputs": [
    {
     "ename": "TypeError",
     "evalue": "Can't convert 'int' object to str implicitly",
     "output_type": "error",
     "traceback": [
      "\u001b[1;31m---------------------------------------------------------------------------\u001b[0m",
      "\u001b[1;31mTypeError\u001b[0m                                 Traceback (most recent call last)",
      "\u001b[1;32m<ipython-input-16-f9bcc88e78fb>\u001b[0m in \u001b[0;36m<module>\u001b[1;34m()\u001b[0m\n\u001b[0;32m      3\u001b[0m \u001b[0mc\u001b[0m \u001b[1;33m=\u001b[0m \u001b[1;36m3\u001b[0m\u001b[1;33m\u001b[0m\u001b[0m\n\u001b[0;32m      4\u001b[0m \u001b[1;33m\u001b[0m\u001b[0m\n\u001b[1;32m----> 5\u001b[1;33m \u001b[0ma\u001b[0m \u001b[1;33m+\u001b[0m \u001b[0mb\u001b[0m \u001b[1;33m+\u001b[0m \u001b[0mc\u001b[0m\u001b[1;33m\u001b[0m\u001b[0m\n\u001b[0m",
      "\u001b[1;31mTypeError\u001b[0m: Can't convert 'int' object to str implicitly"
     ]
    }
   ],
   "source": [
    "a = \"2\"\n",
    "b = \"4\"\n",
    "c = 3\n",
    "\n",
    "a + b + c"
   ]
  },
  {
   "cell_type": "code",
   "execution_count": null,
   "metadata": {
    "collapsed": false,
    "slideshow": {
     "slide_type": "subslide"
    }
   },
   "outputs": [],
   "source": [
    "a = \"2\"\n",
    "b = \"4\"\n",
    "c = 3\n",
    "\n",
    "print(a + b + str(c))\n",
    "print(int(a) + float(b) + c)"
   ]
  },
  {
   "cell_type": "code",
   "execution_count": null,
   "metadata": {
    "collapsed": false,
    "slideshow": {
     "slide_type": "subslide"
    }
   },
   "outputs": [],
   "source": [
    "a = \"2\"\n",
    "b = 3\n",
    "\n",
    "a * b"
   ]
  },
  {
   "cell_type": "markdown",
   "metadata": {
    "slideshow": {
     "slide_type": "slide"
    }
   },
   "source": [
    "## Arithmetic operators"
   ]
  },
  {
   "cell_type": "markdown",
   "metadata": {
    "slideshow": {
     "slide_type": "-"
    }
   },
   "source": [
    "Como hemos visto antes, se puede hacer operaciones con diferentes tipos de datos. Vamos a ver los diferentes operadores aritméticos que existen en Python3."
   ]
  },
  {
   "cell_type": "code",
   "execution_count": null,
   "metadata": {
    "collapsed": false,
    "slideshow": {
     "slide_type": "subslide"
    }
   },
   "outputs": [],
   "source": [
    "print (3 + 4)\n",
    "print (3 - 4)\n",
    "print (3 * 4)\n",
    "print (3 / 4)\n",
    "print (3 % 2)\n",
    "print (3 ** 4) # 3 to the fourth power\n",
    "print (3 // 4) # floor division"
   ]
  },
  {
   "cell_type": "markdown",
   "metadata": {
    "slideshow": {
     "slide_type": "subslide"
    }
   },
   "source": [
    "### computation and allocation"
   ]
  },
  {
   "cell_type": "code",
   "execution_count": null,
   "metadata": {
    "collapsed": false,
    "slideshow": {
     "slide_type": "subslide"
    }
   },
   "outputs": [],
   "source": [
    "a = 0\n",
    "a += 2 #a = a + 2\n",
    "print(a)\n",
    "a //= 4 #a = a // 4\n",
    "print(a)"
   ]
  },
  {
   "cell_type": "markdown",
   "metadata": {
    "slideshow": {
     "slide_type": "slide"
    }
   },
   "source": [
    "## Logical operators"
   ]
  },
  {
   "cell_type": "markdown",
   "metadata": {
    "slideshow": {
     "slide_type": "-"
    }
   },
   "source": [
    "Además de los operadores aritméticos, existen operadores lógicos. Vamos a ver los diferentes operadores lógicos que existen en Python3."
   ]
  },
  {
   "cell_type": "code",
   "execution_count": null,
   "metadata": {
    "collapsed": false,
    "slideshow": {
     "slide_type": "subslide"
    }
   },
   "outputs": [],
   "source": [
    "print(1 == 0)\n",
    "print(1 > 0)\n",
    "print(1 < 0)\n",
    "print(1 <= 0)\n",
    "print(1 >= 0)"
   ]
  },
  {
   "cell_type": "markdown",
   "metadata": {
    "slideshow": {
     "slide_type": "subslide"
    }
   },
   "source": [
    "También podemos hacer operaciones lógicas mas complejas con los operadores and, or, not o utilizando True o False para comparar."
   ]
  },
  {
   "cell_type": "code",
   "execution_count": null,
   "metadata": {
    "collapsed": false,
    "slideshow": {
     "slide_type": "subslide"
    }
   },
   "outputs": [],
   "source": [
    "print(1 == 3.4 and \"a\" == 32)\n",
    "print(1 == 3.4 or 1)\n",
    "print(False == True)\n",
    "print(23 == True)\n",
    "print((1 == 3.4) == False)\n",
    "print(not (1 == 3.4))"
   ]
  },
  {
   "cell_type": "markdown",
   "metadata": {
    "slideshow": {
     "slide_type": "slide"
    }
   },
   "source": [
    "## conditional structures"
   ]
  },
  {
   "cell_type": "markdown",
   "metadata": {
    "slideshow": {
     "slide_type": "subslide"
    }
   },
   "source": [
    "### If, elif and else"
   ]
  },
  {
   "cell_type": "code",
   "execution_count": null,
   "metadata": {
    "collapsed": false,
    "slideshow": {
     "slide_type": "subslide"
    }
   },
   "outputs": [],
   "source": [
    "a = 3\n",
    "if a > 2:\n",
    "    print(\"a > 2\")\n",
    "else:\n",
    "    print(\"a <= 2\")"
   ]
  },
  {
   "cell_type": "code",
   "execution_count": null,
   "metadata": {
    "collapsed": false,
    "slideshow": {
     "slide_type": "subslide"
    }
   },
   "outputs": [],
   "source": [
    "a = 1\n",
    "if a > 2:\n",
    "    print(\"a > 2\")\n",
    "else:\n",
    "    print(\"a <= 2\")"
   ]
  },
  {
   "cell_type": "code",
   "execution_count": null,
   "metadata": {
    "collapsed": false,
    "slideshow": {
     "slide_type": "subslide"
    }
   },
   "outputs": [],
   "source": [
    "a = -3\n",
    "if a >= 2:\n",
    "    print(\"a => 2\")\n",
    "elif a <= 0:\n",
    "    print(\"a <= 0\")\n",
    "else:\n",
    "    print(\"0 < a < 2\")"
   ]
  },
  {
   "cell_type": "code",
   "execution_count": null,
   "metadata": {
    "collapsed": false,
    "slideshow": {
     "slide_type": "subslide"
    }
   },
   "outputs": [],
   "source": [
    "a = 1\n",
    "if a >= 2:\n",
    "    print(\"a => 2\")\n",
    "elif a <= 0:\n",
    "    print(\"a <= 0\")\n",
    "else:\n",
    "    print(\"0 < a < 2\")"
   ]
  },
  {
   "cell_type": "markdown",
   "metadata": {
    "slideshow": {
     "slide_type": "subslide"
    }
   },
   "source": [
    "### for"
   ]
  },
  {
   "cell_type": "code",
   "execution_count": null,
   "metadata": {
    "collapsed": false,
    "slideshow": {
     "slide_type": "subslide"
    }
   },
   "outputs": [],
   "source": [
    "for a in range(4):\n",
    "    print(a)\n",
    "\n",
    "#range(4)=0,1,2,3"
   ]
  },
  {
   "cell_type": "code",
   "execution_count": null,
   "metadata": {
    "collapsed": false,
    "slideshow": {
     "slide_type": "subslide"
    }
   },
   "outputs": [],
   "source": [
    "for a in range(1, 4):\n",
    "    print(a)\n",
    "\n",
    "#range(1, 4)=0,1,2,3"
   ]
  },
  {
   "cell_type": "markdown",
   "metadata": {
    "slideshow": {
     "slide_type": "subslide"
    }
   },
   "source": [
    "### while"
   ]
  },
  {
   "cell_type": "code",
   "execution_count": null,
   "metadata": {
    "collapsed": false,
    "slideshow": {
     "slide_type": "subslide"
    }
   },
   "outputs": [],
   "source": [
    "a = 0\n",
    "while a < 4:\n",
    "    print (a)\n",
    "    a += 4\n"
   ]
  },
  {
   "cell_type": "markdown",
   "metadata": {
    "slideshow": {
     "slide_type": "slide"
    }
   },
   "source": [
    "## functions"
   ]
  },
  {
   "cell_type": "code",
   "execution_count": null,
   "metadata": {
    "collapsed": false,
    "slideshow": {
     "slide_type": "subslide"
    }
   },
   "outputs": [],
   "source": [
    "def hello():\n",
    "    print(\"hello world\")\n",
    "hello()"
   ]
  },
  {
   "cell_type": "code",
   "execution_count": null,
   "metadata": {
    "collapsed": false,
    "slideshow": {
     "slide_type": "subslide"
    }
   },
   "outputs": [],
   "source": [
    "def printer(a):\n",
    "    print(a)\n",
    "a = \"hello world\"\n",
    "printer(a)\n",
    "printer(4)"
   ]
  },
  {
   "cell_type": "code",
   "execution_count": null,
   "metadata": {
    "collapsed": false,
    "slideshow": {
     "slide_type": "subslide"
    }
   },
   "outputs": [],
   "source": [
    "def add(a, b):\n",
    "    return a + b\n",
    "c = add(1, 3)\n",
    "print(c)\n"
   ]
  },
  {
   "cell_type": "code",
   "execution_count": null,
   "metadata": {
    "collapsed": false,
    "slideshow": {
     "slide_type": "subslide"
    }
   },
   "outputs": [],
   "source": [
    "def add(a, b):\n",
    "    result = a + b\n",
    "    return result\n",
    "d = add(1, 3)\n",
    "print(d)\n",
    "print(result) #Scope error\n"
   ]
  },
  {
   "cell_type": "code",
   "execution_count": null,
   "metadata": {
    "collapsed": false,
    "slideshow": {
     "slide_type": "subslide"
    }
   },
   "outputs": [],
   "source": [
    "def suma(a, b):\n",
    "    c = a + b\n",
    "    d = a - b\n",
    "    return c, d\n",
    "e, f = suma(2, 4)\n",
    "print(e, f)\n"
   ]
  },
  {
   "cell_type": "markdown",
   "metadata": {
    "slideshow": {
     "slide_type": "slide"
    }
   },
   "source": [
    "## string"
   ]
  },
  {
   "cell_type": "code",
   "execution_count": null,
   "metadata": {
    "collapsed": false,
    "slideshow": {
     "slide_type": "subslide"
    }
   },
   "outputs": [],
   "source": [
    "a = \"string\"\n",
    "print(a[1:3])\n",
    "print(a[:3])\n",
    "print(a[2:])\n",
    "print(a[:])\n",
    "print(a)"
   ]
  },
  {
   "cell_type": "code",
   "execution_count": null,
   "metadata": {
    "collapsed": false,
    "slideshow": {
     "slide_type": "subslide"
    }
   },
   "outputs": [],
   "source": [
    "print('Num %s' % 123.44)\n",
    "print('Num %i' % 123.44)\n",
    "print('Num %f' % 123.44)\n",
    "print(\"Num %.2f\" % 123.444)\n",
    "\n",
    "a = \"abcdefghijklmnopqrstu\"\n",
    "print('%.10s' % a)"
   ]
  },
  {
   "cell_type": "code",
   "execution_count": null,
   "metadata": {
    "collapsed": false,
    "slideshow": {
     "slide_type": "subslide"
    }
   },
   "outputs": [],
   "source": [
    "a = \"strings\".replace(\"s\", \"S\")\n",
    "print(a)\n",
    "print(a.startswith(\"St\"))\n",
    "print(a.endswith(\"ngs\"))"
   ]
  },
  {
   "cell_type": "markdown",
   "metadata": {
    "slideshow": {
     "slide_type": "slide"
    }
   },
   "source": [
    "## lists and tuples"
   ]
  },
  {
   "cell_type": "markdown",
   "metadata": {
    "slideshow": {
     "slide_type": "subslide"
    }
   },
   "source": [
    "### list"
   ]
  },
  {
   "cell_type": "code",
   "execution_count": null,
   "metadata": {
    "collapsed": false,
    "slideshow": {
     "slide_type": "subslide"
    }
   },
   "outputs": [],
   "source": [
    "sampleList = [1,2,3,4,5,6,7,8]\n",
    "print (sampleList[1])"
   ]
  },
  {
   "cell_type": "code",
   "execution_count": null,
   "metadata": {
    "collapsed": false,
    "slideshow": {
     "slide_type": "subslide"
    }
   },
   "outputs": [],
   "source": [
    "sampleList = [1,2,3,4,5,6,7,8]\n",
    "for a in sampleList:\n",
    "    print (a)"
   ]
  },
  {
   "cell_type": "markdown",
   "metadata": {
    "slideshow": {
     "slide_type": "subslide"
    }
   },
   "source": [
    "- **.append(value)** - añade value al final\n",
    "- **.count('x')** - número de apariciones de X\n",
    "- **.index('x')** - posición de X\n",
    "- **.insert('y','x')** - Inserta X en la posicion Y\n",
    "- **.pop()** - Retorna y elimina el último elemento\n",
    "- **.remove('x')** - Elimina X\n",
    "- **.reverse()** - Da la vuelta a la lista\n",
    "- **.sort()** - Ordena la listaalfabeticamente en orden ascendente, o numericamente en orden ascendente."
   ]
  },
  {
   "cell_type": "markdown",
   "metadata": {
    "slideshow": {
     "slide_type": "subslide"
    }
   },
   "source": [
    "### tuple"
   ]
  },
  {
   "cell_type": "code",
   "execution_count": null,
   "metadata": {
    "collapsed": false,
    "slideshow": {
     "slide_type": "subslide"
    }
   },
   "outputs": [],
   "source": [
    "sampleTuple = (1,2,3,4,5,6,7,8)\n",
    "for a in sampleList:\n",
    "    print (a)"
   ]
  },
  {
   "cell_type": "markdown",
   "metadata": {
    "slideshow": {
     "slide_type": "subslide"
    }
   },
   "source": [
    "### list vs tuple"
   ]
  },
  {
   "cell_type": "code",
   "execution_count": null,
   "metadata": {
    "collapsed": false,
    "slideshow": {
     "slide_type": "subslide"
    }
   },
   "outputs": [],
   "source": [
    "myList = [1,2,3]\n",
    "myList.append(4)\n",
    "\n",
    "myTuple = (1,2,3)\n",
    "myTuple.append(4)"
   ]
  },
  {
   "cell_type": "markdown",
   "metadata": {
    "slideshow": {
     "slide_type": "slide"
    }
   },
   "source": [
    "## dictionaries"
   ]
  },
  {
   "cell_type": "code",
   "execution_count": null,
   "metadata": {
    "collapsed": false,
    "slideshow": {
     "slide_type": "subslide"
    }
   },
   "outputs": [],
   "source": [
    "myDict = {\"foo\": 2,\n",
    "          \"bar\": 20}\n",
    "print(myDict [\"bar\"])"
   ]
  },
  {
   "cell_type": "code",
   "execution_count": null,
   "metadata": {
    "collapsed": false,
    "slideshow": {
     "slide_type": "subslide"
    }
   },
   "outputs": [],
   "source": [
    "myDict = {\"foo\": 2,\n",
    "          \"bar\": 20}\n",
    "for a in myDict:\n",
    "    print (a, myDict[a])\n",
    "print (\"-\" * 10)    \n",
    "for a, b in myDict.iteritems():\n",
    "    print (a, b)\n",
    "print (\"-\" * 10)\n",
    "for a in myDict.values():\n",
    "    print (a)\n"
   ]
  },
  {
   "cell_type": "markdown",
   "metadata": {
    "slideshow": {
     "slide_type": "slide"
    }
   },
   "source": [
    "## Files"
   ]
  },
  {
   "cell_type": "markdown",
   "metadata": {
    "slideshow": {
     "slide_type": "subslide"
    }
   },
   "source": [
    "**hello.txt**\n",
    "\n",
    "```\n",
    "Hola a todos,\n",
    "soy un texto de prueba\n",
    "para aprender como Python 3\n",
    "manipula ficheros.\n",
    "```"
   ]
  },
  {
   "cell_type": "code",
   "execution_count": null,
   "metadata": {
    "collapsed": false,
    "slideshow": {
     "slide_type": "subslide"
    }
   },
   "outputs": [],
   "source": [
    "f = open('hello.txt', 'r') \n",
    "print(f.read(1))\n",
    "print(f.read())\n",
    "f.close()"
   ]
  },
  {
   "cell_type": "code",
   "execution_count": null,
   "metadata": {
    "collapsed": false,
    "slideshow": {
     "slide_type": "subslide"
    }
   },
   "outputs": [],
   "source": [
    "f = open('hello.txt', 'r') \n",
    "print(f.readline())\n",
    "print(f.readline())\n",
    "f.close()"
   ]
  },
  {
   "cell_type": "code",
   "execution_count": null,
   "metadata": {
    "collapsed": false,
    "slideshow": {
     "slide_type": "subslide"
    }
   },
   "outputs": [],
   "source": [
    "f = open('hello.txt', 'r')  \n",
    "myList = []\n",
    "for line in f:\n",
    "    myList.append(line)\n",
    "print(myList)\n",
    "f.close()"
   ]
  },
  {
   "cell_type": "markdown",
   "metadata": {
    "slideshow": {
     "slide_type": "slide"
    }
   },
   "source": [
    "## I/O"
   ]
  },
  {
   "cell_type": "code",
   "execution_count": null,
   "metadata": {
    "collapsed": false,
    "slideshow": {
     "slide_type": "subslide"
    }
   },
   "outputs": [],
   "source": [
    "name = raw_input(\"What is your name? \")\n",
    "\n",
    "age = int(input(\"How old are you? \"))\n",
    "\n",
    "print (\"%s, %s \" % (name, age))"
   ]
  },
  {
   "cell_type": "markdown",
   "metadata": {
    "slideshow": {
     "slide_type": "slide"
    }
   },
   "source": [
    "## exceptions"
   ]
  },
  {
   "cell_type": "code",
   "execution_count": null,
   "metadata": {
    "collapsed": false,
    "slideshow": {
     "slide_type": "subslide"
    }
   },
   "outputs": [],
   "source": [
    "var = '1'\n",
    "try:\n",
    "    var = var + 1\n",
    "except:\n",
    "    print(\"ERROR\")\n",
    "print(var)"
   ]
  },
  {
   "cell_type": "code",
   "execution_count": null,
   "metadata": {
    "collapsed": false,
    "slideshow": {
     "slide_type": "subslide"
    }
   },
   "outputs": [],
   "source": [
    "var = '1'\n",
    "try:\n",
    "    var = var + 1\n",
    "except:\n",
    "    var = int(var) + 1\n",
    "print(var)"
   ]
  },
  {
   "cell_type": "code",
   "execution_count": null,
   "metadata": {
    "collapsed": false,
    "slideshow": {
     "slide_type": "subslide"
    }
   },
   "outputs": [],
   "source": [
    "var = '1' \n",
    "try:\n",
    "    var = var + 1\n",
    "except TypeError as e:\n",
    "     print(\"ERROR: %s\" % e.message)\n",
    "finally:\n",
    "    print(var)"
   ]
  },
  {
   "cell_type": "code",
   "execution_count": null,
   "metadata": {
    "collapsed": false,
    "slideshow": {
     "slide_type": "subslide"
    }
   },
   "outputs": [],
   "source": [
    "def add_one(var):\n",
    "    try:\n",
    "        var += 1\n",
    "    except TypeError as e:\n",
    "        print(\"ERROR: %s\" % e.message)\n",
    "        raise TypeError\n",
    "    finally:\n",
    "        print(\"var value: %s\" % var)\n",
    "    print(\"All correct\")\n",
    "\n",
    "add_one(1)\n",
    "print(\"-\" * 10)\n",
    "try:\n",
    "    add_one(\"1\")\n",
    "except:\n",
    "    print(\"EXCEPTION\")"
   ]
  },
  {
   "cell_type": "markdown",
   "metadata": {
    "slideshow": {
     "slide_type": "slide"
    }
   },
   "source": [
    "## class"
   ]
  },
  {
   "cell_type": "code",
   "execution_count": null,
   "metadata": {
    "collapsed": false,
    "slideshow": {
     "slide_type": "subslide"
    }
   },
   "outputs": [],
   "source": [
    "class Calculator(object):\n",
    "    def __init__(self):\n",
    "        self.current = 0\n",
    "    def add(self, amount):\n",
    "        self.current += amount\n",
    "    def getCurrent(self):\n",
    "        return self.current\n",
    "\n",
    "myCalculator = Calculator()\n",
    "myCalculator.add(7)\n",
    "a = myCalculator.getCurrent()\n",
    "print(a)\n",
    "print(myCalculator.current)"
   ]
  },
  {
   "cell_type": "code",
   "execution_count": null,
   "metadata": {
    "collapsed": false,
    "slideshow": {
     "slide_type": "subslide"
    }
   },
   "outputs": [],
   "source": [
    "class Calculator(object):\n",
    "    def __init__(self, num):\n",
    "        self.current = num\n",
    "    def add(self, amount):\n",
    "        self.current += amount\n",
    "    def getCurrent(self):\n",
    "        return self.current\n",
    "\n",
    "myCalculator = Calculator(5)\n",
    "print(myCalculator.current)\n",
    "\n",
    "try:\n",
    "    myCalculator = Calculator()\n",
    "except Exception as e:\n",
    "    print(e.message)"
   ]
  },
  {
   "cell_type": "code",
   "execution_count": null,
   "metadata": {
    "collapsed": false,
    "slideshow": {
     "slide_type": "subslide"
    }
   },
   "outputs": [],
   "source": [
    "class Calculator(object):\n",
    "    def __init__(self, num=0):\n",
    "        self.current = num\n",
    "    def add(self, amount):\n",
    "        self.current += amount\n",
    "    def getCurrent(self):\n",
    "        return self.current\n",
    "\n",
    "myCalculator = Calculator()\n",
    "print(myCalculator.current)\n",
    "myCalculator = Calculator(5)\n",
    "print(myCalculator.current)"
   ]
  },
  {
   "cell_type": "code",
   "execution_count": null,
   "metadata": {
    "collapsed": false,
    "slideshow": {
     "slide_type": "subslide"
    }
   },
   "outputs": [],
   "source": [
    "class Calculator(object):\n",
    "    def __init__(self, num=0):\n",
    "        self.current = num\n",
    "    def add(self, amount):\n",
    "        self.current += amount\n",
    "    def getCurrent(self):\n",
    "        return self.current\n",
    "\n",
    "class FullCalculator(Calculator):\n",
    "    def remove(self, amount):\n",
    "        self.current -= amount\n",
    "\n",
    "myCalculator = FullCalculator(1)\n",
    "myCalculator.add(7)\n",
    "a = myCalculator.getCurrent()\n",
    "print(a)\n",
    "myCalculator.remove(9)\n",
    "a = myCalculator.getCurrent()\n",
    "print(a)"
   ]
  }
 ],
 "metadata": {
  "kernelspec": {
   "display_name": "Python 3",
   "language": "python",
   "name": "python3"
  },
  "language_info": {
   "codemirror_mode": {
    "name": "ipython",
    "version": 3
   },
   "file_extension": ".py",
   "mimetype": "text/x-python",
   "name": "python",
   "nbconvert_exporter": "python",
   "pygments_lexer": "ipython3",
   "version": "3.4.3"
  }
 },
 "nbformat": 4,
 "nbformat_minor": 0
}
